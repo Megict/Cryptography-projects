{
 "cells": [
  {
   "cell_type": "markdown",
   "metadata": {},
   "source": [
    "## Вариант 7"
   ]
  },
  {
   "cell_type": "markdown",
   "metadata": {},
   "source": [
    "### Число 1"
   ]
  },
  {
   "cell_type": "markdown",
   "metadata": {},
   "source": [
    "268887320029090028117214498253204095765884136483366193842361283776500643966781"
   ]
  },
  {
   "cell_type": "code",
   "execution_count": 23,
   "metadata": {},
   "outputs": [],
   "source": [
    "number1 = 268887320029090028117214498253204095765884136483366193842361283776500643966781"
   ]
  },
  {
   "cell_type": "markdown",
   "metadata": {},
   "source": [
    "Для начала стоит проверить, не является ли это число простым"
   ]
  },
  {
   "cell_type": "code",
   "execution_count": 74,
   "metadata": {},
   "outputs": [
    {
     "data": {
      "text/plain": [
       "False"
      ]
     },
     "execution_count": 74,
     "metadata": {},
     "output_type": "execute_result"
    }
   ],
   "source": [
    "is_prime(number1)"
   ]
  },
  {
   "cell_type": "markdown",
   "metadata": {},
   "source": [
    "Разложим функцией factor"
   ]
  },
  {
   "cell_type": "code",
   "execution_count": 76,
   "metadata": {
    "scrolled": true
   },
   "outputs": [
    {
     "name": "stdout",
     "output_type": "stream",
     "text": [
      "CPU times: user 13min 58s, sys: 1.55 s, total: 13min 59s\n",
      "Wall time: 14min 19s\n"
     ]
    }
   ],
   "source": [
    "%time fd1, fd2 = factor(number1)"
   ]
  },
  {
   "cell_type": "code",
   "execution_count": 81,
   "metadata": {},
   "outputs": [],
   "source": [
    "fd1 = fd1[0]\n",
    "fd2 = fd2[0]"
   ]
  },
  {
   "cell_type": "code",
   "execution_count": 82,
   "metadata": {
    "scrolled": true
   },
   "outputs": [
    {
     "name": "stdout",
     "output_type": "stream",
     "text": [
      "True\n",
      "True\n"
     ]
    }
   ],
   "source": [
    "print(is_prime(fd1)) \n",
    "print(is_prime(fd2)) "
   ]
  },
  {
   "cell_type": "markdown",
   "metadata": {},
   "source": [
    "Проверка корректности найденного разложения:"
   ]
  },
  {
   "cell_type": "code",
   "execution_count": 83,
   "metadata": {},
   "outputs": [
    {
     "name": "stdout",
     "output_type": "stream",
     "text": [
      "True\n"
     ]
    }
   ],
   "source": [
    "print(number1 == fd1*fd2)"
   ]
  },
  {
   "cell_type": "markdown",
   "metadata": {},
   "source": [
    "Разложение верно. Вот оно:"
   ]
  },
  {
   "cell_type": "code",
   "execution_count": 85,
   "metadata": {},
   "outputs": [
    {
     "name": "stdout",
     "output_type": "stream",
     "text": [
      "414150068879409136107176764405542089303\n",
      " *\n",
      "649250936397607504492837402141095065227\n",
      " =\n",
      "268887320029090028117214498253204095765884136483366193842361283776500643966781\n"
     ]
    }
   ],
   "source": [
    "print(\"{}\\n *\\n{}\\n =\\n{}\".format(fd1,fd2,number1))"
   ]
  },
  {
   "cell_type": "markdown",
   "metadata": {},
   "source": [
    "### Чиcло 2"
   ]
  },
  {
   "cell_type": "markdown",
   "metadata": {},
   "source": [
    "6290786896526191101104637204956784381227340661051657910828669971626733569324602870777401334764597738095098477634387696990987529\n",
    "4247530211345300172651502115095178706017790768452750003661306430506440038461778055276250554522875432338747558332659559396911673\n",
    "0471713557463123324992221071219860627569543525496421898323106418814200283654871647427000279594155753348516861131606314323025247\n",
    "7892493843858478050872063688267933199443582315041224037924767099733678635301638141"
   ]
  },
  {
   "cell_type": "code",
   "execution_count": 26,
   "metadata": {},
   "outputs": [],
   "source": [
    "number2 = 6290786896526191101104637204956784381227340661051657910828669971626733569324602870777401334764597738095098477634387696990987529424753021134530017265150211509517870601779076845275000366130643050644003846177805527625055452287543233874755833265955939691167304717135574631233249922210712198606275695435254964218983231064188142002836548716474270002795941557533485168611316063143230252477892493843858478050872063688267933199443582315041224037924767099733678635301638141"
   ]
  },
  {
   "cell_type": "markdown",
   "metadata": {},
   "source": [
    "Для начала стоит проверить, не является ли это число простым"
   ]
  },
  {
   "cell_type": "code",
   "execution_count": 28,
   "metadata": {},
   "outputs": [
    {
     "data": {
      "text/plain": [
       "False"
      ]
     },
     "execution_count": 28,
     "metadata": {},
     "output_type": "execute_result"
    }
   ],
   "source": [
    "is_prime(number2)"
   ]
  },
  {
   "cell_type": "markdown",
   "metadata": {},
   "source": [
    "Возьмем число из варианта 6 и проверим есть ли у него общие делители с исследуемым числом (я исследовал числа из авриантов с 1 по 6, но нетривиальный gcd нашелся только в шестом)"
   ]
  },
  {
   "cell_type": "code",
   "execution_count": 49,
   "metadata": {},
   "outputs": [],
   "source": [
    "numberTest = 6460022354312582572793343100604163087216372941214865569096184912826464912951934844843290548057971769185825571008898779827285829198579888230136431509729644521505820664210671796785408727881787088472858544237323843649456753195786360153338730014417334774860737788349377171270117783539517147103729867405974761065566886813619687414228558901198237125901551456589579117850298162443488215653711057874251971726449089251928969082516345596779536154854135917899503811275677859"
   ]
  },
  {
   "cell_type": "code",
   "execution_count": 50,
   "metadata": {
    "scrolled": true
   },
   "outputs": [
    {
     "name": "stdout",
     "output_type": "stream",
     "text": [
      "22779768443455171877048506923406414349641156889708013445997644579916786546098504746166509652419411236308769649859491675132371948096575712988573236311190389\n"
     ]
    }
   ],
   "source": [
    "testGcd = gcd(number2, numberTest)\n",
    "print(testGcd)"
   ]
  },
  {
   "cell_type": "code",
   "execution_count": 51,
   "metadata": {},
   "outputs": [
    {
     "data": {
      "text/plain": [
       "True"
      ]
     },
     "execution_count": 51,
     "metadata": {},
     "output_type": "execute_result"
    }
   ],
   "source": [
    "is_prime(testGcd)"
   ]
  },
  {
   "cell_type": "markdown",
   "metadata": {},
   "source": [
    "Найденный gcd – простое чило, одна из частей разложения найдена."
   ]
  },
  {
   "cell_type": "code",
   "execution_count": 52,
   "metadata": {},
   "outputs": [],
   "source": [
    "sd1 = testGcd"
   ]
  },
  {
   "cell_type": "code",
   "execution_count": 65,
   "metadata": {},
   "outputs": [],
   "source": [
    "sd2 = int(number2 / sd1)"
   ]
  },
  {
   "cell_type": "code",
   "execution_count": 66,
   "metadata": {},
   "outputs": [
    {
     "data": {
      "text/plain": [
       "True"
      ]
     },
     "execution_count": 66,
     "metadata": {},
     "output_type": "execute_result"
    }
   ],
   "source": [
    "is_prime(sd2)"
   ]
  },
  {
   "cell_type": "markdown",
   "metadata": {},
   "source": [
    "Если поделить раскладываемое число на найденную часть разложения, то получится простое число. Значит, найдено все разложение"
   ]
  },
  {
   "cell_type": "markdown",
   "metadata": {},
   "source": [
    "Проверка правильности найденного разложение"
   ]
  },
  {
   "cell_type": "code",
   "execution_count": 67,
   "metadata": {},
   "outputs": [
    {
     "name": "stdout",
     "output_type": "stream",
     "text": [
      "True\n"
     ]
    }
   ],
   "source": [
    "print(sd1 * sd2 == number2)"
   ]
  },
  {
   "cell_type": "markdown",
   "metadata": {},
   "source": [
    "Разложение верно. Вот оно:"
   ]
  },
  {
   "cell_type": "code",
   "execution_count": 86,
   "metadata": {},
   "outputs": [
    {
     "name": "stdout",
     "output_type": "stream",
     "text": [
      "22779768443455171877048506923406414349641156889708013445997644579916786546098504746166509652419411236308769649859491675132371948096575712988573236311190389\n",
      " *\n",
      "276156753399027178746128589852742949479097118578118722110261812719915691830237147090392939822768796168056485528596667336934624070393677447123799062307263727044284938627342093376604937983215877433990219357068354607658408491168919757549233005153782212097674974763295283164945971953831107964699518682765692561769\n",
      " =\n",
      "6290786896526191101104637204956784381227340661051657910828669971626733569324602870777401334764597738095098477634387696990987529424753021134530017265150211509517870601779076845275000366130643050644003846177805527625055452287543233874755833265955939691167304717135574631233249922210712198606275695435254964218983231064188142002836548716474270002795941557533485168611316063143230252477892493843858478050872063688267933199443582315041224037924767099733678635301638141\n"
     ]
    }
   ],
   "source": [
    "print(\"{}\\n *\\n{}\\n =\\n{}\".format(sd1,sd2,number2))"
   ]
  },
  {
   "cell_type": "code",
   "execution_count": null,
   "metadata": {},
   "outputs": [],
   "source": []
  }
 ],
 "metadata": {
  "kernelspec": {
   "display_name": "SageMath 9.2",
   "language": "sage",
   "name": "sagemath"
  },
  "language_info": {
   "codemirror_mode": {
    "name": "ipython",
    "version": 3
   },
   "file_extension": ".py",
   "mimetype": "text/x-python",
   "name": "python",
   "nbconvert_exporter": "python",
   "pygments_lexer": "ipython3",
   "version": "3.7.7"
  }
 },
 "nbformat": 4,
 "nbformat_minor": 4
}
